{
 "cells": [
  {
   "cell_type": "code",
   "execution_count": 4,
   "metadata": {},
   "outputs": [
    {
     "name": "stdout",
     "output_type": "stream",
     "text": [
      "The autoreload extension is already loaded. To reload it, use:\n",
      "  %reload_ext autoreload\n"
     ]
    }
   ],
   "source": [
    "%matplotlib inline\n",
    "\n",
    "%load_ext autoreload\n",
    "%autoreload 2\n",
    "\n",
    "import sys\n",
    "sys.path.insert(0, '../waq')\n",
    "\n",
    "import numpy as np\n",
    "import pandas as pd\n",
    "import geopandas as gp\n",
    "from matplotlib import mlab\n",
    "import matplotlib.pyplot as plt\n",
    "\n",
    "import utils as u\n",
    "import aq_model\n",
    "import plotting"
   ]
  },
  {
   "cell_type": "code",
   "execution_count": 28,
   "metadata": {},
   "outputs": [],
   "source": [
    "# -- Read NYC geometry\n",
    "nybb_path = gp.datasets.get_path('nybb')\n",
    "boros = gp.GeoDataFrame.from_file(nybb_path)"
   ]
  },
  {
   "cell_type": "code",
   "execution_count": 7,
   "metadata": {},
   "outputs": [],
   "source": [
    "aq = u.read_aq('../../../Data/NYC_AQ/*.csv')\n",
    "aq = aq['2015':]\n",
    "aq_avg = aq.mean(axis=1)"
   ]
  },
  {
   "cell_type": "code",
   "execution_count": 6,
   "metadata": {},
   "outputs": [],
   "source": [
    "boilers = gp.read_file('../data/boiler_count_1km/boiler_count_1km.shp')"
   ]
  },
  {
   "cell_type": "markdown",
   "metadata": {},
   "source": [
    "From the [paper](https://www.researchgate.net/profile/Jane_Clougherty/publication/235382776_Intra-Urban_Spatial_Variability_in_Wintertime_Street-Level_Concentrations_of_Multiple_Combustion-Related_Air_Pollutants_The_New_York_City_Community_Air_Survey_Nyccas/links/5473a83c0cf2778985abb8f6/Intra-Urban-Spatial-Variability-in-Wintertime-Street-Level-Concentrations-of-Multiple-Combustion-Related-Air-Pollutants-The-New-York-City-Community-Air-Survey-Nyccas.pdf)"
   ]
  },
  {
   "cell_type": "code",
   "execution_count": 47,
   "metadata": {},
   "outputs": [],
   "source": [
    "stations = u.read_stations_coords()"
   ]
  },
  {
   "cell_type": "code",
   "execution_count": 57,
   "metadata": {},
   "outputs": [],
   "source": [
    "stations = stations[stations['site_name'].isin(aq.columns)]"
   ]
  },
  {
   "cell_type": "code",
   "execution_count": 261,
   "metadata": {},
   "outputs": [],
   "source": [
    "def calc_aq(point, stations, aq):\n",
    "    x1 = aq_model.calc_mean_pm25(point, stations, aq, time=10)\n",
    "    pm25 = aq_model.calc_pm25(x1, point[0])\n",
    "    return pm25"
   ]
  },
  {
   "cell_type": "code",
   "execution_count": 262,
   "metadata": {},
   "outputs": [],
   "source": [
    "pm = boilers.apply(lambda x: calc_aq(x, stations, aq), axis=1)"
   ]
  },
  {
   "cell_type": "code",
   "execution_count": 251,
   "metadata": {},
   "outputs": [],
   "source": [
    "x = boilers['geometry'].x\n",
    "y = boilers['geometry'].y"
   ]
  },
  {
   "cell_type": "code",
   "execution_count": 253,
   "metadata": {},
   "outputs": [],
   "source": [
    "bounds = boilers.bounds.agg({'minx':np.min, 'miny':np.min, 'maxx': np.max, 'maxy':np.max})"
   ]
  },
  {
   "cell_type": "code",
   "execution_count": 263,
   "metadata": {},
   "outputs": [
    {
     "data": {
      "image/png": "[encoded data removed]",
      "text/plain": [
       "<matplotlib.figure.Figure at 0x7fee7af7a710>"
      ]
     },
     "metadata": {},
     "output_type": "display_data"
    }
   ],
   "source": [
    "plotting.plot_contour(x,y,pm, bounds, n=2000, s=0.3)"
   ]
  }
 ],
 "metadata": {
  "kernelspec": {
   "display_name": "Python 2",
   "language": "python",
   "name": "python2"
  },
  "language_info": {
   "codemirror_mode": {
    "name": "ipython",
    "version": 2
   },
   "file_extension": ".py",
   "mimetype": "text/x-python",
   "name": "python",
   "nbconvert_exporter": "python",
   "pygments_lexer": "ipython2",
   "version": "2.7.11"
  }
 },
 "nbformat": 4,
 "nbformat_minor": 2
}
